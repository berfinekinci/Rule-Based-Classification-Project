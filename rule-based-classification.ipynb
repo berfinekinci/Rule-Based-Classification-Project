{
 "cells": [
  {
   "cell_type": "markdown",
   "id": "490ded48",
   "metadata": {},
   "source": [
    "### Loading the dataset and reviewing general information"
   ]
  },
  {
   "cell_type": "code",
   "execution_count": 7,
   "id": "93d526ce",
   "metadata": {},
   "outputs": [],
   "source": [
    "import pandas as pd\n",
    "\n",
    "df = pd.read_csv(r'C:\\Users\\Berfin\\Desktop\\machine learning alıştırmalar\\python programming\\persona.csv')"
   ]
  },
  {
   "cell_type": "code",
   "execution_count": 8,
   "id": "37dfe359",
   "metadata": {},
   "outputs": [
    {
     "data": {
      "text/html": [
       "<div>\n",
       "<style scoped>\n",
       "    .dataframe tbody tr th:only-of-type {\n",
       "        vertical-align: middle;\n",
       "    }\n",
       "\n",
       "    .dataframe tbody tr th {\n",
       "        vertical-align: top;\n",
       "    }\n",
       "\n",
       "    .dataframe thead th {\n",
       "        text-align: right;\n",
       "    }\n",
       "</style>\n",
       "<table border=\"1\" class=\"dataframe\">\n",
       "  <thead>\n",
       "    <tr style=\"text-align: right;\">\n",
       "      <th></th>\n",
       "      <th>PRICE</th>\n",
       "      <th>SOURCE</th>\n",
       "      <th>SEX</th>\n",
       "      <th>COUNTRY</th>\n",
       "      <th>AGE</th>\n",
       "    </tr>\n",
       "  </thead>\n",
       "  <tbody>\n",
       "    <tr>\n",
       "      <th>0</th>\n",
       "      <td>39</td>\n",
       "      <td>android</td>\n",
       "      <td>male</td>\n",
       "      <td>bra</td>\n",
       "      <td>17</td>\n",
       "    </tr>\n",
       "    <tr>\n",
       "      <th>1</th>\n",
       "      <td>39</td>\n",
       "      <td>android</td>\n",
       "      <td>male</td>\n",
       "      <td>bra</td>\n",
       "      <td>17</td>\n",
       "    </tr>\n",
       "    <tr>\n",
       "      <th>2</th>\n",
       "      <td>49</td>\n",
       "      <td>android</td>\n",
       "      <td>male</td>\n",
       "      <td>bra</td>\n",
       "      <td>17</td>\n",
       "    </tr>\n",
       "    <tr>\n",
       "      <th>3</th>\n",
       "      <td>29</td>\n",
       "      <td>android</td>\n",
       "      <td>male</td>\n",
       "      <td>tur</td>\n",
       "      <td>17</td>\n",
       "    </tr>\n",
       "    <tr>\n",
       "      <th>4</th>\n",
       "      <td>49</td>\n",
       "      <td>android</td>\n",
       "      <td>male</td>\n",
       "      <td>tur</td>\n",
       "      <td>17</td>\n",
       "    </tr>\n",
       "  </tbody>\n",
       "</table>\n",
       "</div>"
      ],
      "text/plain": [
       "   PRICE   SOURCE   SEX COUNTRY  AGE\n",
       "0     39  android  male     bra   17\n",
       "1     39  android  male     bra   17\n",
       "2     49  android  male     bra   17\n",
       "3     29  android  male     tur   17\n",
       "4     49  android  male     tur   17"
      ]
     },
     "execution_count": 8,
     "metadata": {},
     "output_type": "execute_result"
    }
   ],
   "source": [
    "df.head() "
   ]
  },
  {
   "cell_type": "code",
   "execution_count": 9,
   "id": "77730909",
   "metadata": {},
   "outputs": [
    {
     "name": "stdout",
     "output_type": "stream",
     "text": [
      "<class 'pandas.core.frame.DataFrame'>\n",
      "Int64Index: 5000 entries, 0 to 4999\n",
      "Data columns (total 5 columns):\n",
      " #   Column   Non-Null Count  Dtype \n",
      "---  ------   --------------  ----- \n",
      " 0   PRICE    5000 non-null   int64 \n",
      " 1   SOURCE   5000 non-null   object\n",
      " 2   SEX      5000 non-null   object\n",
      " 3   COUNTRY  5000 non-null   object\n",
      " 4   AGE      5000 non-null   int64 \n",
      "dtypes: int64(2), object(3)\n",
      "memory usage: 234.4+ KB\n"
     ]
    }
   ],
   "source": [
    "df.info()"
   ]
  },
  {
   "cell_type": "code",
   "execution_count": 10,
   "id": "8c577f60",
   "metadata": {},
   "outputs": [
    {
     "data": {
      "text/html": [
       "<div>\n",
       "<style scoped>\n",
       "    .dataframe tbody tr th:only-of-type {\n",
       "        vertical-align: middle;\n",
       "    }\n",
       "\n",
       "    .dataframe tbody tr th {\n",
       "        vertical-align: top;\n",
       "    }\n",
       "\n",
       "    .dataframe thead th {\n",
       "        text-align: right;\n",
       "    }\n",
       "</style>\n",
       "<table border=\"1\" class=\"dataframe\">\n",
       "  <thead>\n",
       "    <tr style=\"text-align: right;\">\n",
       "      <th></th>\n",
       "      <th>count</th>\n",
       "      <th>mean</th>\n",
       "      <th>std</th>\n",
       "      <th>min</th>\n",
       "      <th>25%</th>\n",
       "      <th>50%</th>\n",
       "      <th>75%</th>\n",
       "      <th>max</th>\n",
       "    </tr>\n",
       "  </thead>\n",
       "  <tbody>\n",
       "    <tr>\n",
       "      <th>PRICE</th>\n",
       "      <td>5000.0</td>\n",
       "      <td>34.1320</td>\n",
       "      <td>12.464897</td>\n",
       "      <td>9.0</td>\n",
       "      <td>29.0</td>\n",
       "      <td>39.0</td>\n",
       "      <td>39.0</td>\n",
       "      <td>59.0</td>\n",
       "    </tr>\n",
       "    <tr>\n",
       "      <th>AGE</th>\n",
       "      <td>5000.0</td>\n",
       "      <td>23.5814</td>\n",
       "      <td>8.995908</td>\n",
       "      <td>15.0</td>\n",
       "      <td>17.0</td>\n",
       "      <td>21.0</td>\n",
       "      <td>27.0</td>\n",
       "      <td>66.0</td>\n",
       "    </tr>\n",
       "  </tbody>\n",
       "</table>\n",
       "</div>"
      ],
      "text/plain": [
       "        count     mean        std   min   25%   50%   75%   max\n",
       "PRICE  5000.0  34.1320  12.464897   9.0  29.0  39.0  39.0  59.0\n",
       "AGE    5000.0  23.5814   8.995908  15.0  17.0  21.0  27.0  66.0"
      ]
     },
     "execution_count": 10,
     "metadata": {},
     "output_type": "execute_result"
    }
   ],
   "source": [
    "df.describe().T"
   ]
  },
  {
   "cell_type": "code",
   "execution_count": 11,
   "id": "caeb2516",
   "metadata": {},
   "outputs": [
    {
     "data": {
      "text/plain": [
       "PRICE  SOURCE   SEX     COUNTRY  AGE\n",
       "29     android  male    usa      15     29\n",
       "49     android  male    usa      15     25\n",
       "39     android  male    usa      15     25\n",
       "29     ios      male    usa      15     23\n",
       "39     ios      female  deu      16     22\n",
       "                                        ..\n",
       "29     ios      male    tur      16      1\n",
       "39     android  male    usa      34      1\n",
       "49     android  male    deu      18      1\n",
       "19     android  male    usa      29      1\n",
       "59     ios      male    usa      59      1\n",
       "Length: 1384, dtype: int64"
      ]
     },
     "execution_count": 11,
     "metadata": {},
     "output_type": "execute_result"
    }
   ],
   "source": [
    "df.value_counts()"
   ]
  },
  {
   "cell_type": "code",
   "execution_count": 12,
   "id": "1781be85",
   "metadata": {},
   "outputs": [
    {
     "data": {
      "text/plain": [
       "(5000, 5)"
      ]
     },
     "execution_count": 12,
     "metadata": {},
     "output_type": "execute_result"
    }
   ],
   "source": [
    "df.shape"
   ]
  },
  {
   "cell_type": "code",
   "execution_count": 13,
   "id": "5e672110",
   "metadata": {},
   "outputs": [
    {
     "data": {
      "text/plain": [
       "Index(['PRICE', 'SOURCE', 'SEX', 'COUNTRY', 'AGE'], dtype='object')"
      ]
     },
     "execution_count": 13,
     "metadata": {},
     "output_type": "execute_result"
    }
   ],
   "source": [
    "df.columns"
   ]
  },
  {
   "cell_type": "code",
   "execution_count": 14,
   "id": "95f91daa",
   "metadata": {
    "scrolled": true
   },
   "outputs": [
    {
     "data": {
      "text/plain": [
       "PRICE      False\n",
       "SOURCE     False\n",
       "SEX        False\n",
       "COUNTRY    False\n",
       "AGE        False\n",
       "dtype: bool"
      ]
     },
     "execution_count": 14,
     "metadata": {},
     "output_type": "execute_result"
    }
   ],
   "source": [
    "df.isnull().any()"
   ]
  },
  {
   "cell_type": "markdown",
   "id": "49dd0e8a",
   "metadata": {},
   "source": [
    "#### How many unique \"SOURCE\" are there? What are their frequencies?"
   ]
  },
  {
   "cell_type": "code",
   "execution_count": 15,
   "id": "c52b6fec",
   "metadata": {},
   "outputs": [
    {
     "data": {
      "text/plain": [
       "2"
      ]
     },
     "execution_count": 15,
     "metadata": {},
     "output_type": "execute_result"
    }
   ],
   "source": [
    "df['SOURCE'].nunique() "
   ]
  },
  {
   "cell_type": "code",
   "execution_count": 16,
   "id": "68f1252b",
   "metadata": {
    "scrolled": true
   },
   "outputs": [
    {
     "data": {
      "text/plain": [
       "android    2974\n",
       "ios        2026\n",
       "Name: SOURCE, dtype: int64"
      ]
     },
     "execution_count": 16,
     "metadata": {},
     "output_type": "execute_result"
    }
   ],
   "source": [
    "df['SOURCE'].value_counts()"
   ]
  },
  {
   "cell_type": "markdown",
   "id": "a7e103ec",
   "metadata": {},
   "source": [
    "#### How many unique \"PRICE\" are there? What are their frequencies?"
   ]
  },
  {
   "cell_type": "code",
   "execution_count": 17,
   "id": "13112019",
   "metadata": {},
   "outputs": [
    {
     "data": {
      "text/plain": [
       "6"
      ]
     },
     "execution_count": 17,
     "metadata": {},
     "output_type": "execute_result"
    }
   ],
   "source": [
    "df['PRICE'].nunique() "
   ]
  },
  {
   "cell_type": "code",
   "execution_count": 18,
   "id": "1f6275a7",
   "metadata": {
    "scrolled": true
   },
   "outputs": [
    {
     "data": {
      "text/plain": [
       "29    1305\n",
       "39    1260\n",
       "49    1031\n",
       "19     992\n",
       "59     212\n",
       "9      200\n",
       "Name: PRICE, dtype: int64"
      ]
     },
     "execution_count": 18,
     "metadata": {},
     "output_type": "execute_result"
    }
   ],
   "source": [
    "df['PRICE'].value_counts() "
   ]
  },
  {
   "cell_type": "markdown",
   "id": "213a4233",
   "metadata": {},
   "source": [
    "#### How many sales were made from which country?"
   ]
  },
  {
   "cell_type": "code",
   "execution_count": 19,
   "id": "e1a2ce0a",
   "metadata": {
    "scrolled": true
   },
   "outputs": [
    {
     "data": {
      "text/plain": [
       "usa    2065\n",
       "bra    1496\n",
       "deu     455\n",
       "tur     451\n",
       "fra     303\n",
       "can     230\n",
       "Name: COUNTRY, dtype: int64"
      ]
     },
     "execution_count": 19,
     "metadata": {},
     "output_type": "execute_result"
    }
   ],
   "source": [
    "df['COUNTRY'].value_counts() "
   ]
  },
  {
   "cell_type": "markdown",
   "id": "44bb2a52",
   "metadata": {},
   "source": [
    "#### How much was earned from sales in total by country?"
   ]
  },
  {
   "cell_type": "code",
   "execution_count": 21,
   "id": "8be9404a",
   "metadata": {},
   "outputs": [
    {
     "data": {
      "text/html": [
       "<div>\n",
       "<style scoped>\n",
       "    .dataframe tbody tr th:only-of-type {\n",
       "        vertical-align: middle;\n",
       "    }\n",
       "\n",
       "    .dataframe tbody tr th {\n",
       "        vertical-align: top;\n",
       "    }\n",
       "\n",
       "    .dataframe thead tr th {\n",
       "        text-align: left;\n",
       "    }\n",
       "\n",
       "    .dataframe thead tr:last-of-type th {\n",
       "        text-align: right;\n",
       "    }\n",
       "</style>\n",
       "<table border=\"1\" class=\"dataframe\">\n",
       "  <thead>\n",
       "    <tr>\n",
       "      <th></th>\n",
       "      <th>PRICE</th>\n",
       "    </tr>\n",
       "    <tr>\n",
       "      <th></th>\n",
       "      <th>sum</th>\n",
       "    </tr>\n",
       "    <tr>\n",
       "      <th>COUNTRY</th>\n",
       "      <th></th>\n",
       "    </tr>\n",
       "  </thead>\n",
       "  <tbody>\n",
       "    <tr>\n",
       "      <th>bra</th>\n",
       "      <td>51354</td>\n",
       "    </tr>\n",
       "    <tr>\n",
       "      <th>can</th>\n",
       "      <td>7730</td>\n",
       "    </tr>\n",
       "    <tr>\n",
       "      <th>deu</th>\n",
       "      <td>15485</td>\n",
       "    </tr>\n",
       "    <tr>\n",
       "      <th>fra</th>\n",
       "      <td>10177</td>\n",
       "    </tr>\n",
       "    <tr>\n",
       "      <th>tur</th>\n",
       "      <td>15689</td>\n",
       "    </tr>\n",
       "    <tr>\n",
       "      <th>usa</th>\n",
       "      <td>70225</td>\n",
       "    </tr>\n",
       "  </tbody>\n",
       "</table>\n",
       "</div>"
      ],
      "text/plain": [
       "         PRICE\n",
       "           sum\n",
       "COUNTRY       \n",
       "bra      51354\n",
       "can       7730\n",
       "deu      15485\n",
       "fra      10177\n",
       "tur      15689\n",
       "usa      70225"
      ]
     },
     "execution_count": 21,
     "metadata": {},
     "output_type": "execute_result"
    }
   ],
   "source": [
    "df.groupby('COUNTRY').agg({'PRICE':['sum']}) "
   ]
  },
  {
   "cell_type": "code",
   "execution_count": 22,
   "id": "e2a73348",
   "metadata": {
    "scrolled": true
   },
   "outputs": [
    {
     "data": {
      "text/plain": [
       "COUNTRY\n",
       "bra    51354\n",
       "can     7730\n",
       "deu    15485\n",
       "fra    10177\n",
       "tur    15689\n",
       "usa    70225\n",
       "Name: PRICE, dtype: int64"
      ]
     },
     "execution_count": 22,
     "metadata": {},
     "output_type": "execute_result"
    }
   ],
   "source": [
    "df.groupby('COUNTRY')['PRICE'].sum()"
   ]
  },
  {
   "cell_type": "markdown",
   "id": "b227cd8a",
   "metadata": {},
   "source": [
    "#### What are the sales numbers by \"SOURCE\" types?"
   ]
  },
  {
   "cell_type": "code",
   "execution_count": 23,
   "id": "fc39ee14",
   "metadata": {
    "scrolled": true
   },
   "outputs": [
    {
     "data": {
      "text/plain": [
       "android    2974\n",
       "ios        2026\n",
       "Name: SOURCE, dtype: int64"
      ]
     },
     "execution_count": 23,
     "metadata": {},
     "output_type": "execute_result"
    }
   ],
   "source": [
    "df['SOURCE'].value_counts() "
   ]
  },
  {
   "cell_type": "markdown",
   "id": "bbb9a20e",
   "metadata": {},
   "source": [
    "#### What are the \"PRICE\" averages by country?"
   ]
  },
  {
   "cell_type": "code",
   "execution_count": 24,
   "id": "cd42519c",
   "metadata": {
    "scrolled": true
   },
   "outputs": [
    {
     "data": {
      "text/plain": [
       "COUNTRY\n",
       "bra    34.327540\n",
       "can    33.608696\n",
       "deu    34.032967\n",
       "fra    33.587459\n",
       "tur    34.787140\n",
       "usa    34.007264\n",
       "Name: PRICE, dtype: float64"
      ]
     },
     "execution_count": 24,
     "metadata": {},
     "output_type": "execute_result"
    }
   ],
   "source": [
    "df.groupby('COUNTRY')['PRICE'].mean() "
   ]
  },
  {
   "cell_type": "markdown",
   "id": "d3de146e",
   "metadata": {},
   "source": [
    "#### What are the \"PRICE\" averages according to \"SOURCE's\"?"
   ]
  },
  {
   "cell_type": "code",
   "execution_count": 25,
   "id": "165e8c75",
   "metadata": {
    "scrolled": true
   },
   "outputs": [
    {
     "data": {
      "text/plain": [
       "SOURCE\n",
       "android    34.174849\n",
       "ios        34.069102\n",
       "Name: PRICE, dtype: float64"
      ]
     },
     "execution_count": 25,
     "metadata": {},
     "output_type": "execute_result"
    }
   ],
   "source": [
    "df.groupby('SOURCE')['PRICE'].mean()"
   ]
  },
  {
   "cell_type": "markdown",
   "id": "9b67f859",
   "metadata": {},
   "source": [
    "#### What are the \"PRICE\" averages in the \"COUNTRY-SOURCE\" breakdown?"
   ]
  },
  {
   "cell_type": "code",
   "execution_count": 26,
   "id": "3ecfd024",
   "metadata": {
    "scrolled": true
   },
   "outputs": [
    {
     "data": {
      "text/html": [
       "<div>\n",
       "<style scoped>\n",
       "    .dataframe tbody tr th:only-of-type {\n",
       "        vertical-align: middle;\n",
       "    }\n",
       "\n",
       "    .dataframe tbody tr th {\n",
       "        vertical-align: top;\n",
       "    }\n",
       "\n",
       "    .dataframe thead tr th {\n",
       "        text-align: left;\n",
       "    }\n",
       "\n",
       "    .dataframe thead tr:last-of-type th {\n",
       "        text-align: right;\n",
       "    }\n",
       "</style>\n",
       "<table border=\"1\" class=\"dataframe\">\n",
       "  <thead>\n",
       "    <tr>\n",
       "      <th></th>\n",
       "      <th></th>\n",
       "      <th>PRICE</th>\n",
       "    </tr>\n",
       "    <tr>\n",
       "      <th></th>\n",
       "      <th></th>\n",
       "      <th>mean</th>\n",
       "    </tr>\n",
       "    <tr>\n",
       "      <th>COUNTRY</th>\n",
       "      <th>SOURCE</th>\n",
       "      <th></th>\n",
       "    </tr>\n",
       "  </thead>\n",
       "  <tbody>\n",
       "    <tr>\n",
       "      <th rowspan=\"2\" valign=\"top\">bra</th>\n",
       "      <th>android</th>\n",
       "      <td>34.387029</td>\n",
       "    </tr>\n",
       "    <tr>\n",
       "      <th>ios</th>\n",
       "      <td>34.222222</td>\n",
       "    </tr>\n",
       "    <tr>\n",
       "      <th rowspan=\"2\" valign=\"top\">can</th>\n",
       "      <th>android</th>\n",
       "      <td>33.330709</td>\n",
       "    </tr>\n",
       "    <tr>\n",
       "      <th>ios</th>\n",
       "      <td>33.951456</td>\n",
       "    </tr>\n",
       "    <tr>\n",
       "      <th rowspan=\"2\" valign=\"top\">deu</th>\n",
       "      <th>android</th>\n",
       "      <td>33.869888</td>\n",
       "    </tr>\n",
       "    <tr>\n",
       "      <th>ios</th>\n",
       "      <td>34.268817</td>\n",
       "    </tr>\n",
       "    <tr>\n",
       "      <th rowspan=\"2\" valign=\"top\">fra</th>\n",
       "      <th>android</th>\n",
       "      <td>34.312500</td>\n",
       "    </tr>\n",
       "    <tr>\n",
       "      <th>ios</th>\n",
       "      <td>32.776224</td>\n",
       "    </tr>\n",
       "    <tr>\n",
       "      <th rowspan=\"2\" valign=\"top\">tur</th>\n",
       "      <th>android</th>\n",
       "      <td>36.229437</td>\n",
       "    </tr>\n",
       "    <tr>\n",
       "      <th>ios</th>\n",
       "      <td>33.272727</td>\n",
       "    </tr>\n",
       "    <tr>\n",
       "      <th rowspan=\"2\" valign=\"top\">usa</th>\n",
       "      <th>android</th>\n",
       "      <td>33.760357</td>\n",
       "    </tr>\n",
       "    <tr>\n",
       "      <th>ios</th>\n",
       "      <td>34.371703</td>\n",
       "    </tr>\n",
       "  </tbody>\n",
       "</table>\n",
       "</div>"
      ],
      "text/plain": [
       "                     PRICE\n",
       "                      mean\n",
       "COUNTRY SOURCE            \n",
       "bra     android  34.387029\n",
       "        ios      34.222222\n",
       "can     android  33.330709\n",
       "        ios      33.951456\n",
       "deu     android  33.869888\n",
       "        ios      34.268817\n",
       "fra     android  34.312500\n",
       "        ios      32.776224\n",
       "tur     android  36.229437\n",
       "        ios      33.272727\n",
       "usa     android  33.760357\n",
       "        ios      34.371703"
      ]
     },
     "execution_count": 26,
     "metadata": {},
     "output_type": "execute_result"
    }
   ],
   "source": [
    "df.groupby(['COUNTRY','SOURCE']).agg({'PRICE':['mean']}) "
   ]
  },
  {
   "cell_type": "markdown",
   "id": "f519ec09",
   "metadata": {},
   "source": [
    "#### What are the average earnings in the \"COUNTRY, SOURCE, SEX, AGE\" breakdown?"
   ]
  },
  {
   "cell_type": "code",
   "execution_count": 29,
   "id": "8118eeb6",
   "metadata": {
    "scrolled": true
   },
   "outputs": [
    {
     "data": {
      "text/html": [
       "<div>\n",
       "<style scoped>\n",
       "    .dataframe tbody tr th:only-of-type {\n",
       "        vertical-align: middle;\n",
       "    }\n",
       "\n",
       "    .dataframe tbody tr th {\n",
       "        vertical-align: top;\n",
       "    }\n",
       "\n",
       "    .dataframe thead tr th {\n",
       "        text-align: left;\n",
       "    }\n",
       "\n",
       "    .dataframe thead tr:last-of-type th {\n",
       "        text-align: right;\n",
       "    }\n",
       "</style>\n",
       "<table border=\"1\" class=\"dataframe\">\n",
       "  <thead>\n",
       "    <tr>\n",
       "      <th></th>\n",
       "      <th></th>\n",
       "      <th></th>\n",
       "      <th></th>\n",
       "      <th>PRICE</th>\n",
       "    </tr>\n",
       "    <tr>\n",
       "      <th></th>\n",
       "      <th></th>\n",
       "      <th></th>\n",
       "      <th></th>\n",
       "      <th>mean</th>\n",
       "    </tr>\n",
       "    <tr>\n",
       "      <th>COUNTRY</th>\n",
       "      <th>SOURCE</th>\n",
       "      <th>SEX</th>\n",
       "      <th>AGE</th>\n",
       "      <th></th>\n",
       "    </tr>\n",
       "  </thead>\n",
       "  <tbody>\n",
       "    <tr>\n",
       "      <th rowspan=\"5\" valign=\"top\">bra</th>\n",
       "      <th rowspan=\"5\" valign=\"top\">android</th>\n",
       "      <th rowspan=\"5\" valign=\"top\">female</th>\n",
       "      <th>15</th>\n",
       "      <td>38.714286</td>\n",
       "    </tr>\n",
       "    <tr>\n",
       "      <th>16</th>\n",
       "      <td>35.944444</td>\n",
       "    </tr>\n",
       "    <tr>\n",
       "      <th>17</th>\n",
       "      <td>35.666667</td>\n",
       "    </tr>\n",
       "    <tr>\n",
       "      <th>18</th>\n",
       "      <td>32.255814</td>\n",
       "    </tr>\n",
       "    <tr>\n",
       "      <th>19</th>\n",
       "      <td>35.206897</td>\n",
       "    </tr>\n",
       "  </tbody>\n",
       "</table>\n",
       "</div>"
      ],
      "text/plain": [
       "                                PRICE\n",
       "                                 mean\n",
       "COUNTRY SOURCE  SEX    AGE           \n",
       "bra     android female 15   38.714286\n",
       "                       16   35.944444\n",
       "                       17   35.666667\n",
       "                       18   32.255814\n",
       "                       19   35.206897"
      ]
     },
     "execution_count": 29,
     "metadata": {},
     "output_type": "execute_result"
    }
   ],
   "source": [
    "df.groupby(['COUNTRY','SOURCE','SEX','AGE']).agg({'PRICE':['mean']}).head()"
   ]
  },
  {
   "cell_type": "code",
   "execution_count": 30,
   "id": "98d8413f",
   "metadata": {},
   "outputs": [],
   "source": [
    "agg_df = df.groupby(['COUNTRY','SOURCE','SEX','AGE']).agg({'PRICE':'mean'})"
   ]
  },
  {
   "cell_type": "code",
   "execution_count": 31,
   "id": "84388d86",
   "metadata": {
    "scrolled": true
   },
   "outputs": [
    {
     "data": {
      "text/html": [
       "<div>\n",
       "<style scoped>\n",
       "    .dataframe tbody tr th:only-of-type {\n",
       "        vertical-align: middle;\n",
       "    }\n",
       "\n",
       "    .dataframe tbody tr th {\n",
       "        vertical-align: top;\n",
       "    }\n",
       "\n",
       "    .dataframe thead th {\n",
       "        text-align: right;\n",
       "    }\n",
       "</style>\n",
       "<table border=\"1\" class=\"dataframe\">\n",
       "  <thead>\n",
       "    <tr style=\"text-align: right;\">\n",
       "      <th></th>\n",
       "      <th></th>\n",
       "      <th></th>\n",
       "      <th></th>\n",
       "      <th>PRICE</th>\n",
       "    </tr>\n",
       "    <tr>\n",
       "      <th>COUNTRY</th>\n",
       "      <th>SOURCE</th>\n",
       "      <th>SEX</th>\n",
       "      <th>AGE</th>\n",
       "      <th></th>\n",
       "    </tr>\n",
       "  </thead>\n",
       "  <tbody>\n",
       "    <tr>\n",
       "      <th>bra</th>\n",
       "      <th>android</th>\n",
       "      <th>male</th>\n",
       "      <th>46</th>\n",
       "      <td>59.0</td>\n",
       "    </tr>\n",
       "    <tr>\n",
       "      <th>usa</th>\n",
       "      <th>android</th>\n",
       "      <th>male</th>\n",
       "      <th>36</th>\n",
       "      <td>59.0</td>\n",
       "    </tr>\n",
       "    <tr>\n",
       "      <th>fra</th>\n",
       "      <th>android</th>\n",
       "      <th>female</th>\n",
       "      <th>24</th>\n",
       "      <td>59.0</td>\n",
       "    </tr>\n",
       "    <tr>\n",
       "      <th>usa</th>\n",
       "      <th>ios</th>\n",
       "      <th>male</th>\n",
       "      <th>32</th>\n",
       "      <td>54.0</td>\n",
       "    </tr>\n",
       "    <tr>\n",
       "      <th>deu</th>\n",
       "      <th>android</th>\n",
       "      <th>female</th>\n",
       "      <th>36</th>\n",
       "      <td>49.0</td>\n",
       "    </tr>\n",
       "    <tr>\n",
       "      <th>...</th>\n",
       "      <th>...</th>\n",
       "      <th>...</th>\n",
       "      <th>...</th>\n",
       "      <td>...</td>\n",
       "    </tr>\n",
       "    <tr>\n",
       "      <th rowspan=\"2\" valign=\"top\">usa</th>\n",
       "      <th rowspan=\"2\" valign=\"top\">ios</th>\n",
       "      <th rowspan=\"2\" valign=\"top\">female</th>\n",
       "      <th>38</th>\n",
       "      <td>19.0</td>\n",
       "    </tr>\n",
       "    <tr>\n",
       "      <th>30</th>\n",
       "      <td>19.0</td>\n",
       "    </tr>\n",
       "    <tr>\n",
       "      <th>can</th>\n",
       "      <th>android</th>\n",
       "      <th>female</th>\n",
       "      <th>27</th>\n",
       "      <td>19.0</td>\n",
       "    </tr>\n",
       "    <tr>\n",
       "      <th>fra</th>\n",
       "      <th>android</th>\n",
       "      <th>male</th>\n",
       "      <th>18</th>\n",
       "      <td>19.0</td>\n",
       "    </tr>\n",
       "    <tr>\n",
       "      <th>deu</th>\n",
       "      <th>android</th>\n",
       "      <th>male</th>\n",
       "      <th>26</th>\n",
       "      <td>9.0</td>\n",
       "    </tr>\n",
       "  </tbody>\n",
       "</table>\n",
       "<p>348 rows × 1 columns</p>\n",
       "</div>"
      ],
      "text/plain": [
       "                            PRICE\n",
       "COUNTRY SOURCE  SEX    AGE       \n",
       "bra     android male   46    59.0\n",
       "usa     android male   36    59.0\n",
       "fra     android female 24    59.0\n",
       "usa     ios     male   32    54.0\n",
       "deu     android female 36    49.0\n",
       "...                           ...\n",
       "usa     ios     female 38    19.0\n",
       "                       30    19.0\n",
       "can     android female 27    19.0\n",
       "fra     android male   18    19.0\n",
       "deu     android male   26     9.0\n",
       "\n",
       "[348 rows x 1 columns]"
      ]
     },
     "execution_count": 31,
     "metadata": {},
     "output_type": "execute_result"
    }
   ],
   "source": [
    "agg_df.sort_values('PRICE',ascending=False) "
   ]
  },
  {
   "cell_type": "markdown",
   "id": "b19a4368",
   "metadata": {},
   "source": [
    "#### Converting the names in the index to variable names"
   ]
  },
  {
   "cell_type": "code",
   "execution_count": 32,
   "id": "9f3013d2",
   "metadata": {},
   "outputs": [],
   "source": [
    "agg_df.reset_index(inplace=True) "
   ]
  },
  {
   "cell_type": "code",
   "execution_count": 33,
   "id": "80167922",
   "metadata": {
    "scrolled": true
   },
   "outputs": [
    {
     "data": {
      "text/html": [
       "<div>\n",
       "<style scoped>\n",
       "    .dataframe tbody tr th:only-of-type {\n",
       "        vertical-align: middle;\n",
       "    }\n",
       "\n",
       "    .dataframe tbody tr th {\n",
       "        vertical-align: top;\n",
       "    }\n",
       "\n",
       "    .dataframe thead th {\n",
       "        text-align: right;\n",
       "    }\n",
       "</style>\n",
       "<table border=\"1\" class=\"dataframe\">\n",
       "  <thead>\n",
       "    <tr style=\"text-align: right;\">\n",
       "      <th></th>\n",
       "      <th>COUNTRY</th>\n",
       "      <th>SOURCE</th>\n",
       "      <th>SEX</th>\n",
       "      <th>AGE</th>\n",
       "      <th>PRICE</th>\n",
       "    </tr>\n",
       "  </thead>\n",
       "  <tbody>\n",
       "    <tr>\n",
       "      <th>0</th>\n",
       "      <td>bra</td>\n",
       "      <td>android</td>\n",
       "      <td>female</td>\n",
       "      <td>15</td>\n",
       "      <td>38.714286</td>\n",
       "    </tr>\n",
       "    <tr>\n",
       "      <th>1</th>\n",
       "      <td>bra</td>\n",
       "      <td>android</td>\n",
       "      <td>female</td>\n",
       "      <td>16</td>\n",
       "      <td>35.944444</td>\n",
       "    </tr>\n",
       "    <tr>\n",
       "      <th>2</th>\n",
       "      <td>bra</td>\n",
       "      <td>android</td>\n",
       "      <td>female</td>\n",
       "      <td>17</td>\n",
       "      <td>35.666667</td>\n",
       "    </tr>\n",
       "    <tr>\n",
       "      <th>3</th>\n",
       "      <td>bra</td>\n",
       "      <td>android</td>\n",
       "      <td>female</td>\n",
       "      <td>18</td>\n",
       "      <td>32.255814</td>\n",
       "    </tr>\n",
       "    <tr>\n",
       "      <th>4</th>\n",
       "      <td>bra</td>\n",
       "      <td>android</td>\n",
       "      <td>female</td>\n",
       "      <td>19</td>\n",
       "      <td>35.206897</td>\n",
       "    </tr>\n",
       "  </tbody>\n",
       "</table>\n",
       "</div>"
      ],
      "text/plain": [
       "  COUNTRY   SOURCE     SEX  AGE      PRICE\n",
       "0     bra  android  female   15  38.714286\n",
       "1     bra  android  female   16  35.944444\n",
       "2     bra  android  female   17  35.666667\n",
       "3     bra  android  female   18  32.255814\n",
       "4     bra  android  female   19  35.206897"
      ]
     },
     "execution_count": 33,
     "metadata": {},
     "output_type": "execute_result"
    }
   ],
   "source": [
    "agg_df.head()"
   ]
  },
  {
   "cell_type": "markdown",
   "id": "14fbe89e",
   "metadata": {},
   "source": [
    "#### Converting the age variable to a categorical variable and creating ranges"
   ]
  },
  {
   "cell_type": "code",
   "execution_count": 34,
   "id": "fb9b75c8",
   "metadata": {},
   "outputs": [],
   "source": [
    "my_bins = [0, 18, 23, 30, 40, agg_df['AGE'].max()] "
   ]
  },
  {
   "cell_type": "code",
   "execution_count": 35,
   "id": "396b694c",
   "metadata": {},
   "outputs": [
    {
     "data": {
      "text/plain": [
       "[0, 18, 23, 30, 40, 66]"
      ]
     },
     "execution_count": 35,
     "metadata": {},
     "output_type": "execute_result"
    }
   ],
   "source": [
    "my_bins"
   ]
  },
  {
   "cell_type": "code",
   "execution_count": 36,
   "id": "073006f2",
   "metadata": {},
   "outputs": [],
   "source": [
    "my_labels = ['0_18', '19_23', '24_30', '31_40', '41_'+ str(agg_df['AGE'].max())]"
   ]
  },
  {
   "cell_type": "code",
   "execution_count": 37,
   "id": "f23beff2",
   "metadata": {},
   "outputs": [
    {
     "data": {
      "text/plain": [
       "['0_18', '19_23', '24_30', '31_40', '41_66']"
      ]
     },
     "execution_count": 37,
     "metadata": {},
     "output_type": "execute_result"
    }
   ],
   "source": [
    "my_labels"
   ]
  },
  {
   "cell_type": "code",
   "execution_count": 38,
   "id": "c3be0601",
   "metadata": {},
   "outputs": [
    {
     "data": {
      "text/plain": [
       "0       0_18\n",
       "1       0_18\n",
       "2       0_18\n",
       "3       0_18\n",
       "4      19_23\n",
       "       ...  \n",
       "343    41_66\n",
       "344    41_66\n",
       "345    41_66\n",
       "346    41_66\n",
       "347    41_66\n",
       "Name: AGE, Length: 348, dtype: category\n",
       "Categories (5, object): ['0_18' < '19_23' < '24_30' < '31_40' < '41_66']"
      ]
     },
     "execution_count": 38,
     "metadata": {},
     "output_type": "execute_result"
    }
   ],
   "source": [
    "pd.cut(agg_df['AGE'], bins= my_bins, labels= my_labels)"
   ]
  },
  {
   "cell_type": "code",
   "execution_count": 39,
   "id": "4a9d84ef",
   "metadata": {},
   "outputs": [],
   "source": [
    "agg_df['AGE_CAT'] = pd.cut(agg_df['AGE'], bins= my_bins, labels= my_labels) "
   ]
  },
  {
   "cell_type": "code",
   "execution_count": 41,
   "id": "05f6e919",
   "metadata": {
    "scrolled": false
   },
   "outputs": [
    {
     "data": {
      "text/html": [
       "<div>\n",
       "<style scoped>\n",
       "    .dataframe tbody tr th:only-of-type {\n",
       "        vertical-align: middle;\n",
       "    }\n",
       "\n",
       "    .dataframe tbody tr th {\n",
       "        vertical-align: top;\n",
       "    }\n",
       "\n",
       "    .dataframe thead th {\n",
       "        text-align: right;\n",
       "    }\n",
       "</style>\n",
       "<table border=\"1\" class=\"dataframe\">\n",
       "  <thead>\n",
       "    <tr style=\"text-align: right;\">\n",
       "      <th></th>\n",
       "      <th>COUNTRY</th>\n",
       "      <th>SOURCE</th>\n",
       "      <th>SEX</th>\n",
       "      <th>AGE</th>\n",
       "      <th>PRICE</th>\n",
       "      <th>AGE_CAT</th>\n",
       "    </tr>\n",
       "  </thead>\n",
       "  <tbody>\n",
       "    <tr>\n",
       "      <th>0</th>\n",
       "      <td>bra</td>\n",
       "      <td>android</td>\n",
       "      <td>female</td>\n",
       "      <td>15</td>\n",
       "      <td>38.714286</td>\n",
       "      <td>0_18</td>\n",
       "    </tr>\n",
       "    <tr>\n",
       "      <th>1</th>\n",
       "      <td>bra</td>\n",
       "      <td>android</td>\n",
       "      <td>female</td>\n",
       "      <td>16</td>\n",
       "      <td>35.944444</td>\n",
       "      <td>0_18</td>\n",
       "    </tr>\n",
       "    <tr>\n",
       "      <th>2</th>\n",
       "      <td>bra</td>\n",
       "      <td>android</td>\n",
       "      <td>female</td>\n",
       "      <td>17</td>\n",
       "      <td>35.666667</td>\n",
       "      <td>0_18</td>\n",
       "    </tr>\n",
       "    <tr>\n",
       "      <th>3</th>\n",
       "      <td>bra</td>\n",
       "      <td>android</td>\n",
       "      <td>female</td>\n",
       "      <td>18</td>\n",
       "      <td>32.255814</td>\n",
       "      <td>0_18</td>\n",
       "    </tr>\n",
       "    <tr>\n",
       "      <th>4</th>\n",
       "      <td>bra</td>\n",
       "      <td>android</td>\n",
       "      <td>female</td>\n",
       "      <td>19</td>\n",
       "      <td>35.206897</td>\n",
       "      <td>19_23</td>\n",
       "    </tr>\n",
       "  </tbody>\n",
       "</table>\n",
       "</div>"
      ],
      "text/plain": [
       "  COUNTRY   SOURCE     SEX  AGE      PRICE AGE_CAT\n",
       "0     bra  android  female   15  38.714286    0_18\n",
       "1     bra  android  female   16  35.944444    0_18\n",
       "2     bra  android  female   17  35.666667    0_18\n",
       "3     bra  android  female   18  32.255814    0_18\n",
       "4     bra  android  female   19  35.206897   19_23"
      ]
     },
     "execution_count": 41,
     "metadata": {},
     "output_type": "execute_result"
    }
   ],
   "source": [
    "agg_df.head()"
   ]
  },
  {
   "cell_type": "markdown",
   "id": "42bcb1e2",
   "metadata": {},
   "source": [
    "#### Defining new level-based customers (personas) and adding them to the dataset as a new variable"
   ]
  },
  {
   "cell_type": "code",
   "execution_count": 42,
   "id": "41163f2d",
   "metadata": {},
   "outputs": [
    {
     "data": {
      "text/plain": [
       "array([['bra', 'android', 'female', '0_18'],\n",
       "       ['bra', 'android', 'female', '0_18'],\n",
       "       ['bra', 'android', 'female', '0_18'],\n",
       "       ...,\n",
       "       ['usa', 'ios', 'male', '41_66'],\n",
       "       ['usa', 'ios', 'male', '41_66'],\n",
       "       ['usa', 'ios', 'male', '41_66']], dtype=object)"
      ]
     },
     "execution_count": 42,
     "metadata": {},
     "output_type": "execute_result"
    }
   ],
   "source": [
    "agg_df.drop(['AGE','PRICE'], axis=1).values"
   ]
  },
  {
   "cell_type": "code",
   "execution_count": 43,
   "id": "2fc606f4",
   "metadata": {},
   "outputs": [
    {
     "data": {
      "text/plain": [
       "['BRA_ANDROID_FEMALE_0_18',\n",
       " 'BRA_ANDROID_FEMALE_0_18',\n",
       " 'BRA_ANDROID_FEMALE_0_18',\n",
       " 'BRA_ANDROID_FEMALE_0_18',\n",
       " 'BRA_ANDROID_FEMALE_19_23',\n",
       " 'BRA_ANDROID_FEMALE_19_23',\n",
       " 'BRA_ANDROID_FEMALE_19_23',\n",
       " 'BRA_ANDROID_FEMALE_19_23',\n",
       " 'BRA_ANDROID_FEMALE_19_23',\n",
       " 'BRA_ANDROID_FEMALE_24_30',\n",
       " 'BRA_ANDROID_FEMALE_24_30',\n",
       " 'BRA_ANDROID_FEMALE_24_30',\n",
       " 'BRA_ANDROID_FEMALE_24_30',\n",
       " 'BRA_ANDROID_FEMALE_24_30',\n",
       " 'BRA_ANDROID_FEMALE_24_30',\n",
       " 'BRA_ANDROID_FEMALE_24_30',\n",
       " 'BRA_ANDROID_FEMALE_31_40',\n",
       " 'BRA_ANDROID_FEMALE_31_40',\n",
       " 'BRA_ANDROID_FEMALE_31_40',\n",
       " 'BRA_ANDROID_FEMALE_31_40',\n",
       " 'BRA_ANDROID_FEMALE_31_40',\n",
       " 'BRA_ANDROID_FEMALE_31_40',\n",
       " 'BRA_ANDROID_FEMALE_41_66',\n",
       " 'BRA_ANDROID_FEMALE_41_66',\n",
       " 'BRA_ANDROID_FEMALE_41_66',\n",
       " 'BRA_ANDROID_FEMALE_41_66',\n",
       " 'BRA_ANDROID_MALE_0_18',\n",
       " 'BRA_ANDROID_MALE_0_18',\n",
       " 'BRA_ANDROID_MALE_0_18',\n",
       " 'BRA_ANDROID_MALE_0_18',\n",
       " 'BRA_ANDROID_MALE_19_23',\n",
       " 'BRA_ANDROID_MALE_19_23',\n",
       " 'BRA_ANDROID_MALE_19_23',\n",
       " 'BRA_ANDROID_MALE_19_23',\n",
       " 'BRA_ANDROID_MALE_19_23',\n",
       " 'BRA_ANDROID_MALE_24_30',\n",
       " 'BRA_ANDROID_MALE_24_30',\n",
       " 'BRA_ANDROID_MALE_24_30',\n",
       " 'BRA_ANDROID_MALE_24_30',\n",
       " 'BRA_ANDROID_MALE_24_30',\n",
       " 'BRA_ANDROID_MALE_24_30',\n",
       " 'BRA_ANDROID_MALE_24_30',\n",
       " 'BRA_ANDROID_MALE_31_40',\n",
       " 'BRA_ANDROID_MALE_31_40',\n",
       " 'BRA_ANDROID_MALE_31_40',\n",
       " 'BRA_ANDROID_MALE_41_66',\n",
       " 'BRA_ANDROID_MALE_41_66',\n",
       " 'BRA_ANDROID_MALE_41_66',\n",
       " 'BRA_ANDROID_MALE_41_66',\n",
       " 'BRA_IOS_FEMALE_0_18',\n",
       " 'BRA_IOS_FEMALE_0_18',\n",
       " 'BRA_IOS_FEMALE_0_18',\n",
       " 'BRA_IOS_FEMALE_0_18',\n",
       " 'BRA_IOS_FEMALE_19_23',\n",
       " 'BRA_IOS_FEMALE_19_23',\n",
       " 'BRA_IOS_FEMALE_19_23',\n",
       " 'BRA_IOS_FEMALE_19_23',\n",
       " 'BRA_IOS_FEMALE_24_30',\n",
       " 'BRA_IOS_FEMALE_24_30',\n",
       " 'BRA_IOS_FEMALE_24_30',\n",
       " 'BRA_IOS_FEMALE_24_30',\n",
       " 'BRA_IOS_FEMALE_24_30',\n",
       " 'BRA_IOS_FEMALE_24_30',\n",
       " 'BRA_IOS_FEMALE_31_40',\n",
       " 'BRA_IOS_FEMALE_31_40',\n",
       " 'BRA_IOS_FEMALE_31_40',\n",
       " 'BRA_IOS_FEMALE_31_40',\n",
       " 'BRA_IOS_FEMALE_31_40',\n",
       " 'BRA_IOS_FEMALE_41_66',\n",
       " 'BRA_IOS_FEMALE_41_66',\n",
       " 'BRA_IOS_FEMALE_41_66',\n",
       " 'BRA_IOS_FEMALE_41_66',\n",
       " 'BRA_IOS_MALE_0_18',\n",
       " 'BRA_IOS_MALE_0_18',\n",
       " 'BRA_IOS_MALE_0_18',\n",
       " 'BRA_IOS_MALE_0_18',\n",
       " 'BRA_IOS_MALE_19_23',\n",
       " 'BRA_IOS_MALE_19_23',\n",
       " 'BRA_IOS_MALE_19_23',\n",
       " 'BRA_IOS_MALE_19_23',\n",
       " 'BRA_IOS_MALE_24_30',\n",
       " 'BRA_IOS_MALE_31_40',\n",
       " 'BRA_IOS_MALE_31_40',\n",
       " 'BRA_IOS_MALE_31_40',\n",
       " 'BRA_IOS_MALE_31_40',\n",
       " 'BRA_IOS_MALE_31_40',\n",
       " 'BRA_IOS_MALE_31_40',\n",
       " 'BRA_IOS_MALE_41_66',\n",
       " 'BRA_IOS_MALE_41_66',\n",
       " 'BRA_IOS_MALE_41_66',\n",
       " 'BRA_IOS_MALE_41_66',\n",
       " 'BRA_IOS_MALE_41_66',\n",
       " 'CAN_ANDROID_FEMALE_0_18',\n",
       " 'CAN_ANDROID_FEMALE_0_18',\n",
       " 'CAN_ANDROID_FEMALE_0_18',\n",
       " 'CAN_ANDROID_FEMALE_19_23',\n",
       " 'CAN_ANDROID_FEMALE_19_23',\n",
       " 'CAN_ANDROID_FEMALE_24_30',\n",
       " 'CAN_ANDROID_FEMALE_41_66',\n",
       " 'CAN_ANDROID_MALE_0_18',\n",
       " 'CAN_ANDROID_MALE_19_23',\n",
       " 'CAN_ANDROID_MALE_24_30',\n",
       " 'CAN_ANDROID_MALE_24_30',\n",
       " 'CAN_ANDROID_MALE_41_66',\n",
       " 'CAN_IOS_FEMALE_0_18',\n",
       " 'CAN_IOS_FEMALE_0_18',\n",
       " 'CAN_IOS_FEMALE_24_30',\n",
       " 'CAN_IOS_MALE_0_18',\n",
       " 'CAN_IOS_MALE_0_18',\n",
       " 'CAN_IOS_MALE_0_18',\n",
       " 'CAN_IOS_MALE_24_30',\n",
       " 'CAN_IOS_MALE_31_40',\n",
       " 'CAN_IOS_MALE_41_66',\n",
       " 'DEU_ANDROID_FEMALE_0_18',\n",
       " 'DEU_ANDROID_FEMALE_0_18',\n",
       " 'DEU_ANDROID_FEMALE_0_18',\n",
       " 'DEU_ANDROID_FEMALE_19_23',\n",
       " 'DEU_ANDROID_FEMALE_19_23',\n",
       " 'DEU_ANDROID_FEMALE_19_23',\n",
       " 'DEU_ANDROID_FEMALE_24_30',\n",
       " 'DEU_ANDROID_FEMALE_24_30',\n",
       " 'DEU_ANDROID_FEMALE_24_30',\n",
       " 'DEU_ANDROID_FEMALE_24_30',\n",
       " 'DEU_ANDROID_FEMALE_31_40',\n",
       " 'DEU_ANDROID_FEMALE_31_40',\n",
       " 'DEU_ANDROID_FEMALE_31_40',\n",
       " 'DEU_ANDROID_FEMALE_31_40',\n",
       " 'DEU_ANDROID_FEMALE_41_66',\n",
       " 'DEU_ANDROID_FEMALE_41_66',\n",
       " 'DEU_ANDROID_FEMALE_41_66',\n",
       " 'DEU_ANDROID_MALE_0_18',\n",
       " 'DEU_ANDROID_MALE_0_18',\n",
       " 'DEU_ANDROID_MALE_0_18',\n",
       " 'DEU_ANDROID_MALE_19_23',\n",
       " 'DEU_ANDROID_MALE_19_23',\n",
       " 'DEU_ANDROID_MALE_19_23',\n",
       " 'DEU_ANDROID_MALE_19_23',\n",
       " 'DEU_ANDROID_MALE_24_30',\n",
       " 'DEU_ANDROID_MALE_24_30',\n",
       " 'DEU_ANDROID_MALE_31_40',\n",
       " 'DEU_ANDROID_MALE_31_40',\n",
       " 'DEU_ANDROID_MALE_31_40',\n",
       " 'DEU_ANDROID_MALE_31_40',\n",
       " 'DEU_ANDROID_MALE_31_40',\n",
       " 'DEU_IOS_FEMALE_0_18',\n",
       " 'DEU_IOS_FEMALE_0_18',\n",
       " 'DEU_IOS_FEMALE_0_18',\n",
       " 'DEU_IOS_FEMALE_0_18',\n",
       " 'DEU_IOS_FEMALE_19_23',\n",
       " 'DEU_IOS_FEMALE_19_23',\n",
       " 'DEU_IOS_FEMALE_24_30',\n",
       " 'DEU_IOS_FEMALE_24_30',\n",
       " 'DEU_IOS_FEMALE_31_40',\n",
       " 'DEU_IOS_MALE_0_18',\n",
       " 'DEU_IOS_MALE_0_18',\n",
       " 'DEU_IOS_MALE_19_23',\n",
       " 'DEU_IOS_MALE_19_23',\n",
       " 'DEU_IOS_MALE_24_30',\n",
       " 'DEU_IOS_MALE_24_30',\n",
       " 'DEU_IOS_MALE_31_40',\n",
       " 'DEU_IOS_MALE_41_66',\n",
       " 'FRA_ANDROID_FEMALE_0_18',\n",
       " 'FRA_ANDROID_FEMALE_0_18',\n",
       " 'FRA_ANDROID_FEMALE_0_18',\n",
       " 'FRA_ANDROID_FEMALE_19_23',\n",
       " 'FRA_ANDROID_FEMALE_19_23',\n",
       " 'FRA_ANDROID_FEMALE_19_23',\n",
       " 'FRA_ANDROID_FEMALE_24_30',\n",
       " 'FRA_ANDROID_FEMALE_24_30',\n",
       " 'FRA_ANDROID_FEMALE_31_40',\n",
       " 'FRA_ANDROID_MALE_0_18',\n",
       " 'FRA_ANDROID_MALE_0_18',\n",
       " 'FRA_ANDROID_MALE_19_23',\n",
       " 'FRA_ANDROID_MALE_19_23',\n",
       " 'FRA_ANDROID_MALE_19_23',\n",
       " 'FRA_ANDROID_MALE_24_30',\n",
       " 'FRA_ANDROID_MALE_31_40',\n",
       " 'FRA_ANDROID_MALE_31_40',\n",
       " 'FRA_ANDROID_MALE_41_66',\n",
       " 'FRA_ANDROID_MALE_41_66',\n",
       " 'FRA_IOS_FEMALE_0_18',\n",
       " 'FRA_IOS_FEMALE_0_18',\n",
       " 'FRA_IOS_FEMALE_0_18',\n",
       " 'FRA_IOS_FEMALE_24_30',\n",
       " 'FRA_IOS_FEMALE_24_30',\n",
       " 'FRA_IOS_FEMALE_31_40',\n",
       " 'FRA_IOS_FEMALE_31_40',\n",
       " 'FRA_IOS_MALE_0_18',\n",
       " 'FRA_IOS_MALE_0_18',\n",
       " 'FRA_IOS_MALE_0_18',\n",
       " 'FRA_IOS_MALE_19_23',\n",
       " 'FRA_IOS_MALE_19_23',\n",
       " 'FRA_IOS_MALE_19_23',\n",
       " 'FRA_IOS_MALE_24_30',\n",
       " 'FRA_IOS_MALE_24_30',\n",
       " 'FRA_IOS_MALE_31_40',\n",
       " 'FRA_IOS_MALE_31_40',\n",
       " 'FRA_IOS_MALE_41_66',\n",
       " 'TUR_ANDROID_FEMALE_0_18',\n",
       " 'TUR_ANDROID_FEMALE_0_18',\n",
       " 'TUR_ANDROID_FEMALE_0_18',\n",
       " 'TUR_ANDROID_FEMALE_0_18',\n",
       " 'TUR_ANDROID_FEMALE_19_23',\n",
       " 'TUR_ANDROID_FEMALE_19_23',\n",
       " 'TUR_ANDROID_FEMALE_19_23',\n",
       " 'TUR_ANDROID_FEMALE_24_30',\n",
       " 'TUR_ANDROID_FEMALE_24_30',\n",
       " 'TUR_ANDROID_FEMALE_31_40',\n",
       " 'TUR_ANDROID_FEMALE_31_40',\n",
       " 'TUR_ANDROID_FEMALE_41_66',\n",
       " 'TUR_ANDROID_FEMALE_41_66',\n",
       " 'TUR_ANDROID_FEMALE_41_66',\n",
       " 'TUR_ANDROID_FEMALE_41_66',\n",
       " 'TUR_ANDROID_MALE_0_18',\n",
       " 'TUR_ANDROID_MALE_0_18',\n",
       " 'TUR_ANDROID_MALE_0_18',\n",
       " 'TUR_ANDROID_MALE_19_23',\n",
       " 'TUR_ANDROID_MALE_19_23',\n",
       " 'TUR_ANDROID_MALE_24_30',\n",
       " 'TUR_ANDROID_MALE_24_30',\n",
       " 'TUR_ANDROID_MALE_24_30',\n",
       " 'TUR_ANDROID_MALE_24_30',\n",
       " 'TUR_ANDROID_MALE_31_40',\n",
       " 'TUR_ANDROID_MALE_41_66',\n",
       " 'TUR_IOS_FEMALE_0_18',\n",
       " 'TUR_IOS_FEMALE_0_18',\n",
       " 'TUR_IOS_FEMALE_0_18',\n",
       " 'TUR_IOS_FEMALE_19_23',\n",
       " 'TUR_IOS_FEMALE_19_23',\n",
       " 'TUR_IOS_FEMALE_19_23',\n",
       " 'TUR_IOS_FEMALE_19_23',\n",
       " 'TUR_IOS_FEMALE_19_23',\n",
       " 'TUR_IOS_FEMALE_24_30',\n",
       " 'TUR_IOS_FEMALE_24_30',\n",
       " 'TUR_IOS_FEMALE_31_40',\n",
       " 'TUR_IOS_FEMALE_31_40',\n",
       " 'TUR_IOS_FEMALE_41_66',\n",
       " 'TUR_IOS_MALE_0_18',\n",
       " 'TUR_IOS_MALE_0_18',\n",
       " 'TUR_IOS_MALE_0_18',\n",
       " 'TUR_IOS_MALE_19_23',\n",
       " 'TUR_IOS_MALE_19_23',\n",
       " 'TUR_IOS_MALE_24_30',\n",
       " 'TUR_IOS_MALE_31_40',\n",
       " 'TUR_IOS_MALE_41_66',\n",
       " 'TUR_IOS_MALE_41_66',\n",
       " 'USA_ANDROID_FEMALE_0_18',\n",
       " 'USA_ANDROID_FEMALE_0_18',\n",
       " 'USA_ANDROID_FEMALE_0_18',\n",
       " 'USA_ANDROID_FEMALE_0_18',\n",
       " 'USA_ANDROID_FEMALE_19_23',\n",
       " 'USA_ANDROID_FEMALE_19_23',\n",
       " 'USA_ANDROID_FEMALE_19_23',\n",
       " 'USA_ANDROID_FEMALE_19_23',\n",
       " 'USA_ANDROID_FEMALE_19_23',\n",
       " 'USA_ANDROID_FEMALE_24_30',\n",
       " 'USA_ANDROID_FEMALE_24_30',\n",
       " 'USA_ANDROID_FEMALE_24_30',\n",
       " 'USA_ANDROID_FEMALE_24_30',\n",
       " 'USA_ANDROID_FEMALE_24_30',\n",
       " 'USA_ANDROID_FEMALE_24_30',\n",
       " 'USA_ANDROID_FEMALE_31_40',\n",
       " 'USA_ANDROID_FEMALE_31_40',\n",
       " 'USA_ANDROID_FEMALE_31_40',\n",
       " 'USA_ANDROID_FEMALE_31_40',\n",
       " 'USA_ANDROID_FEMALE_31_40',\n",
       " 'USA_ANDROID_FEMALE_41_66',\n",
       " 'USA_ANDROID_FEMALE_41_66',\n",
       " 'USA_ANDROID_FEMALE_41_66',\n",
       " 'USA_ANDROID_FEMALE_41_66',\n",
       " 'USA_ANDROID_FEMALE_41_66',\n",
       " 'USA_ANDROID_MALE_0_18',\n",
       " 'USA_ANDROID_MALE_0_18',\n",
       " 'USA_ANDROID_MALE_0_18',\n",
       " 'USA_ANDROID_MALE_0_18',\n",
       " 'USA_ANDROID_MALE_19_23',\n",
       " 'USA_ANDROID_MALE_19_23',\n",
       " 'USA_ANDROID_MALE_19_23',\n",
       " 'USA_ANDROID_MALE_19_23',\n",
       " 'USA_ANDROID_MALE_19_23',\n",
       " 'USA_ANDROID_MALE_24_30',\n",
       " 'USA_ANDROID_MALE_24_30',\n",
       " 'USA_ANDROID_MALE_24_30',\n",
       " 'USA_ANDROID_MALE_24_30',\n",
       " 'USA_ANDROID_MALE_24_30',\n",
       " 'USA_ANDROID_MALE_24_30',\n",
       " 'USA_ANDROID_MALE_24_30',\n",
       " 'USA_ANDROID_MALE_31_40',\n",
       " 'USA_ANDROID_MALE_31_40',\n",
       " 'USA_ANDROID_MALE_31_40',\n",
       " 'USA_ANDROID_MALE_31_40',\n",
       " 'USA_ANDROID_MALE_31_40',\n",
       " 'USA_ANDROID_MALE_31_40',\n",
       " 'USA_ANDROID_MALE_41_66',\n",
       " 'USA_ANDROID_MALE_41_66',\n",
       " 'USA_ANDROID_MALE_41_66',\n",
       " 'USA_ANDROID_MALE_41_66',\n",
       " 'USA_ANDROID_MALE_41_66',\n",
       " 'USA_ANDROID_MALE_41_66',\n",
       " 'USA_ANDROID_MALE_41_66',\n",
       " 'USA_IOS_FEMALE_0_18',\n",
       " 'USA_IOS_FEMALE_0_18',\n",
       " 'USA_IOS_FEMALE_0_18',\n",
       " 'USA_IOS_FEMALE_0_18',\n",
       " 'USA_IOS_FEMALE_19_23',\n",
       " 'USA_IOS_FEMALE_19_23',\n",
       " 'USA_IOS_FEMALE_19_23',\n",
       " 'USA_IOS_FEMALE_19_23',\n",
       " 'USA_IOS_FEMALE_19_23',\n",
       " 'USA_IOS_FEMALE_24_30',\n",
       " 'USA_IOS_FEMALE_24_30',\n",
       " 'USA_IOS_FEMALE_24_30',\n",
       " 'USA_IOS_FEMALE_24_30',\n",
       " 'USA_IOS_FEMALE_24_30',\n",
       " 'USA_IOS_FEMALE_24_30',\n",
       " 'USA_IOS_FEMALE_24_30',\n",
       " 'USA_IOS_FEMALE_31_40',\n",
       " 'USA_IOS_FEMALE_31_40',\n",
       " 'USA_IOS_FEMALE_31_40',\n",
       " 'USA_IOS_FEMALE_31_40',\n",
       " 'USA_IOS_FEMALE_41_66',\n",
       " 'USA_IOS_FEMALE_41_66',\n",
       " 'USA_IOS_FEMALE_41_66',\n",
       " 'USA_IOS_FEMALE_41_66',\n",
       " 'USA_IOS_FEMALE_41_66',\n",
       " 'USA_IOS_MALE_0_18',\n",
       " 'USA_IOS_MALE_0_18',\n",
       " 'USA_IOS_MALE_0_18',\n",
       " 'USA_IOS_MALE_0_18',\n",
       " 'USA_IOS_MALE_19_23',\n",
       " 'USA_IOS_MALE_19_23',\n",
       " 'USA_IOS_MALE_19_23',\n",
       " 'USA_IOS_MALE_24_30',\n",
       " 'USA_IOS_MALE_24_30',\n",
       " 'USA_IOS_MALE_24_30',\n",
       " 'USA_IOS_MALE_24_30',\n",
       " 'USA_IOS_MALE_24_30',\n",
       " 'USA_IOS_MALE_24_30',\n",
       " 'USA_IOS_MALE_31_40',\n",
       " 'USA_IOS_MALE_31_40',\n",
       " 'USA_IOS_MALE_31_40',\n",
       " 'USA_IOS_MALE_31_40',\n",
       " 'USA_IOS_MALE_31_40',\n",
       " 'USA_IOS_MALE_41_66',\n",
       " 'USA_IOS_MALE_41_66',\n",
       " 'USA_IOS_MALE_41_66',\n",
       " 'USA_IOS_MALE_41_66',\n",
       " 'USA_IOS_MALE_41_66']"
      ]
     },
     "execution_count": 43,
     "metadata": {},
     "output_type": "execute_result"
    }
   ],
   "source": [
    "[\"_\".join(i).upper() for i in agg_df.drop(['AGE','PRICE'], axis=1).values]"
   ]
  },
  {
   "cell_type": "code",
   "execution_count": 44,
   "id": "0535ba4d",
   "metadata": {},
   "outputs": [],
   "source": [
    "agg_df['CUSTOMER_LEVEL_BASED'] = [\"_\".join(i).upper() for i in agg_df.drop(['AGE','PRICE'], axis=1).values]"
   ]
  },
  {
   "cell_type": "code",
   "execution_count": 45,
   "id": "11fa1eb4",
   "metadata": {},
   "outputs": [
    {
     "data": {
      "text/html": [
       "<div>\n",
       "<style scoped>\n",
       "    .dataframe tbody tr th:only-of-type {\n",
       "        vertical-align: middle;\n",
       "    }\n",
       "\n",
       "    .dataframe tbody tr th {\n",
       "        vertical-align: top;\n",
       "    }\n",
       "\n",
       "    .dataframe thead th {\n",
       "        text-align: right;\n",
       "    }\n",
       "</style>\n",
       "<table border=\"1\" class=\"dataframe\">\n",
       "  <thead>\n",
       "    <tr style=\"text-align: right;\">\n",
       "      <th></th>\n",
       "      <th>COUNTRY</th>\n",
       "      <th>SOURCE</th>\n",
       "      <th>SEX</th>\n",
       "      <th>AGE</th>\n",
       "      <th>PRICE</th>\n",
       "      <th>AGE_CAT</th>\n",
       "      <th>CUSTOMER_LEVEL_BASED</th>\n",
       "    </tr>\n",
       "  </thead>\n",
       "  <tbody>\n",
       "    <tr>\n",
       "      <th>0</th>\n",
       "      <td>bra</td>\n",
       "      <td>android</td>\n",
       "      <td>female</td>\n",
       "      <td>15</td>\n",
       "      <td>38.714286</td>\n",
       "      <td>0_18</td>\n",
       "      <td>BRA_ANDROID_FEMALE_0_18</td>\n",
       "    </tr>\n",
       "    <tr>\n",
       "      <th>1</th>\n",
       "      <td>bra</td>\n",
       "      <td>android</td>\n",
       "      <td>female</td>\n",
       "      <td>16</td>\n",
       "      <td>35.944444</td>\n",
       "      <td>0_18</td>\n",
       "      <td>BRA_ANDROID_FEMALE_0_18</td>\n",
       "    </tr>\n",
       "    <tr>\n",
       "      <th>2</th>\n",
       "      <td>bra</td>\n",
       "      <td>android</td>\n",
       "      <td>female</td>\n",
       "      <td>17</td>\n",
       "      <td>35.666667</td>\n",
       "      <td>0_18</td>\n",
       "      <td>BRA_ANDROID_FEMALE_0_18</td>\n",
       "    </tr>\n",
       "    <tr>\n",
       "      <th>3</th>\n",
       "      <td>bra</td>\n",
       "      <td>android</td>\n",
       "      <td>female</td>\n",
       "      <td>18</td>\n",
       "      <td>32.255814</td>\n",
       "      <td>0_18</td>\n",
       "      <td>BRA_ANDROID_FEMALE_0_18</td>\n",
       "    </tr>\n",
       "    <tr>\n",
       "      <th>4</th>\n",
       "      <td>bra</td>\n",
       "      <td>android</td>\n",
       "      <td>female</td>\n",
       "      <td>19</td>\n",
       "      <td>35.206897</td>\n",
       "      <td>19_23</td>\n",
       "      <td>BRA_ANDROID_FEMALE_19_23</td>\n",
       "    </tr>\n",
       "  </tbody>\n",
       "</table>\n",
       "</div>"
      ],
      "text/plain": [
       "  COUNTRY   SOURCE     SEX  AGE      PRICE AGE_CAT      CUSTOMER_LEVEL_BASED\n",
       "0     bra  android  female   15  38.714286    0_18   BRA_ANDROID_FEMALE_0_18\n",
       "1     bra  android  female   16  35.944444    0_18   BRA_ANDROID_FEMALE_0_18\n",
       "2     bra  android  female   17  35.666667    0_18   BRA_ANDROID_FEMALE_0_18\n",
       "3     bra  android  female   18  32.255814    0_18   BRA_ANDROID_FEMALE_0_18\n",
       "4     bra  android  female   19  35.206897   19_23  BRA_ANDROID_FEMALE_19_23"
      ]
     },
     "execution_count": 45,
     "metadata": {},
     "output_type": "execute_result"
    }
   ],
   "source": [
    "agg_df.head()"
   ]
  },
  {
   "cell_type": "code",
   "execution_count": 46,
   "id": "1da4730e",
   "metadata": {},
   "outputs": [],
   "source": [
    "agg_df = agg_df[['CUSTOMER_LEVEL_BASED','PRICE']]"
   ]
  },
  {
   "cell_type": "code",
   "execution_count": 47,
   "id": "7a8c5fdf",
   "metadata": {
    "scrolled": true
   },
   "outputs": [
    {
     "data": {
      "text/html": [
       "<div>\n",
       "<style scoped>\n",
       "    .dataframe tbody tr th:only-of-type {\n",
       "        vertical-align: middle;\n",
       "    }\n",
       "\n",
       "    .dataframe tbody tr th {\n",
       "        vertical-align: top;\n",
       "    }\n",
       "\n",
       "    .dataframe thead th {\n",
       "        text-align: right;\n",
       "    }\n",
       "</style>\n",
       "<table border=\"1\" class=\"dataframe\">\n",
       "  <thead>\n",
       "    <tr style=\"text-align: right;\">\n",
       "      <th></th>\n",
       "      <th>CUSTOMER_LEVEL_BASED</th>\n",
       "      <th>PRICE</th>\n",
       "    </tr>\n",
       "  </thead>\n",
       "  <tbody>\n",
       "    <tr>\n",
       "      <th>0</th>\n",
       "      <td>BRA_ANDROID_FEMALE_0_18</td>\n",
       "      <td>38.714286</td>\n",
       "    </tr>\n",
       "    <tr>\n",
       "      <th>1</th>\n",
       "      <td>BRA_ANDROID_FEMALE_0_18</td>\n",
       "      <td>35.944444</td>\n",
       "    </tr>\n",
       "    <tr>\n",
       "      <th>2</th>\n",
       "      <td>BRA_ANDROID_FEMALE_0_18</td>\n",
       "      <td>35.666667</td>\n",
       "    </tr>\n",
       "    <tr>\n",
       "      <th>3</th>\n",
       "      <td>BRA_ANDROID_FEMALE_0_18</td>\n",
       "      <td>32.255814</td>\n",
       "    </tr>\n",
       "    <tr>\n",
       "      <th>4</th>\n",
       "      <td>BRA_ANDROID_FEMALE_19_23</td>\n",
       "      <td>35.206897</td>\n",
       "    </tr>\n",
       "  </tbody>\n",
       "</table>\n",
       "</div>"
      ],
      "text/plain": [
       "       CUSTOMER_LEVEL_BASED      PRICE\n",
       "0   BRA_ANDROID_FEMALE_0_18  38.714286\n",
       "1   BRA_ANDROID_FEMALE_0_18  35.944444\n",
       "2   BRA_ANDROID_FEMALE_0_18  35.666667\n",
       "3   BRA_ANDROID_FEMALE_0_18  32.255814\n",
       "4  BRA_ANDROID_FEMALE_19_23  35.206897"
      ]
     },
     "execution_count": 47,
     "metadata": {},
     "output_type": "execute_result"
    }
   ],
   "source": [
    "agg_df.head()"
   ]
  },
  {
   "cell_type": "code",
   "execution_count": 48,
   "id": "2de8be8a",
   "metadata": {
    "collapsed": true
   },
   "outputs": [
    {
     "data": {
      "text/html": [
       "<div>\n",
       "<style scoped>\n",
       "    .dataframe tbody tr th:only-of-type {\n",
       "        vertical-align: middle;\n",
       "    }\n",
       "\n",
       "    .dataframe tbody tr th {\n",
       "        vertical-align: top;\n",
       "    }\n",
       "\n",
       "    .dataframe thead th {\n",
       "        text-align: right;\n",
       "    }\n",
       "</style>\n",
       "<table border=\"1\" class=\"dataframe\">\n",
       "  <thead>\n",
       "    <tr style=\"text-align: right;\">\n",
       "      <th></th>\n",
       "      <th>CUSTOMER_LEVEL_BASED</th>\n",
       "      <th>PRICE</th>\n",
       "    </tr>\n",
       "  </thead>\n",
       "  <tbody>\n",
       "    <tr>\n",
       "      <th>0</th>\n",
       "      <td>BRA_ANDROID_FEMALE_0_18</td>\n",
       "      <td>35.645303</td>\n",
       "    </tr>\n",
       "    <tr>\n",
       "      <th>1</th>\n",
       "      <td>BRA_ANDROID_FEMALE_19_23</td>\n",
       "      <td>34.077340</td>\n",
       "    </tr>\n",
       "    <tr>\n",
       "      <th>2</th>\n",
       "      <td>BRA_ANDROID_FEMALE_24_30</td>\n",
       "      <td>33.863946</td>\n",
       "    </tr>\n",
       "    <tr>\n",
       "      <th>3</th>\n",
       "      <td>BRA_ANDROID_FEMALE_31_40</td>\n",
       "      <td>34.898326</td>\n",
       "    </tr>\n",
       "    <tr>\n",
       "      <th>4</th>\n",
       "      <td>BRA_ANDROID_FEMALE_41_66</td>\n",
       "      <td>36.737179</td>\n",
       "    </tr>\n",
       "    <tr>\n",
       "      <th>...</th>\n",
       "      <td>...</td>\n",
       "      <td>...</td>\n",
       "    </tr>\n",
       "    <tr>\n",
       "      <th>104</th>\n",
       "      <td>USA_IOS_MALE_0_18</td>\n",
       "      <td>33.983495</td>\n",
       "    </tr>\n",
       "    <tr>\n",
       "      <th>105</th>\n",
       "      <td>USA_IOS_MALE_19_23</td>\n",
       "      <td>34.901872</td>\n",
       "    </tr>\n",
       "    <tr>\n",
       "      <th>106</th>\n",
       "      <td>USA_IOS_MALE_24_30</td>\n",
       "      <td>34.838143</td>\n",
       "    </tr>\n",
       "    <tr>\n",
       "      <th>107</th>\n",
       "      <td>USA_IOS_MALE_31_40</td>\n",
       "      <td>36.206324</td>\n",
       "    </tr>\n",
       "    <tr>\n",
       "      <th>108</th>\n",
       "      <td>USA_IOS_MALE_41_66</td>\n",
       "      <td>35.750000</td>\n",
       "    </tr>\n",
       "  </tbody>\n",
       "</table>\n",
       "<p>109 rows × 2 columns</p>\n",
       "</div>"
      ],
      "text/plain": [
       "         CUSTOMER_LEVEL_BASED      PRICE\n",
       "0     BRA_ANDROID_FEMALE_0_18  35.645303\n",
       "1    BRA_ANDROID_FEMALE_19_23  34.077340\n",
       "2    BRA_ANDROID_FEMALE_24_30  33.863946\n",
       "3    BRA_ANDROID_FEMALE_31_40  34.898326\n",
       "4    BRA_ANDROID_FEMALE_41_66  36.737179\n",
       "..                        ...        ...\n",
       "104         USA_IOS_MALE_0_18  33.983495\n",
       "105        USA_IOS_MALE_19_23  34.901872\n",
       "106        USA_IOS_MALE_24_30  34.838143\n",
       "107        USA_IOS_MALE_31_40  36.206324\n",
       "108        USA_IOS_MALE_41_66  35.750000\n",
       "\n",
       "[109 rows x 2 columns]"
      ]
     },
     "execution_count": 48,
     "metadata": {},
     "output_type": "execute_result"
    }
   ],
   "source": [
    "agg_df.groupby('CUSTOMER_LEVEL_BASED')['PRICE'].mean().reset_index()"
   ]
  },
  {
   "cell_type": "code",
   "execution_count": 45,
   "id": "7f4c23ad",
   "metadata": {},
   "outputs": [],
   "source": [
    "agg_df = agg_df.groupby('CUSTOMER_LEVEL_BASED')['PRICE'].mean().reset_index()"
   ]
  },
  {
   "cell_type": "markdown",
   "id": "24678e54",
   "metadata": {},
   "source": [
    "#### Segmentation of \"CUSTOMER_LEVEL_BASED\""
   ]
  },
  {
   "cell_type": "code",
   "execution_count": 49,
   "id": "6e008761",
   "metadata": {},
   "outputs": [
    {
     "data": {
      "text/plain": [
       "0      A\n",
       "1      B\n",
       "2      B\n",
       "3      C\n",
       "4      B\n",
       "      ..\n",
       "343    D\n",
       "344    A\n",
       "345    C\n",
       "346    D\n",
       "347    A\n",
       "Name: PRICE, Length: 348, dtype: category\n",
       "Categories (4, object): ['D' < 'C' < 'B' < 'A']"
      ]
     },
     "execution_count": 49,
     "metadata": {},
     "output_type": "execute_result"
    }
   ],
   "source": [
    "pd.qcut(agg_df.PRICE, q = 4, labels=['D','C','B','A'])"
   ]
  },
  {
   "cell_type": "code",
   "execution_count": 50,
   "id": "9a1a4096",
   "metadata": {},
   "outputs": [],
   "source": [
    "agg_df['SEGMENT'] = pd.qcut(agg_df.PRICE, q = 4, labels=['D','C','B','A'])"
   ]
  },
  {
   "cell_type": "code",
   "execution_count": 51,
   "id": "25acabc0",
   "metadata": {},
   "outputs": [
    {
     "data": {
      "text/html": [
       "<div>\n",
       "<style scoped>\n",
       "    .dataframe tbody tr th:only-of-type {\n",
       "        vertical-align: middle;\n",
       "    }\n",
       "\n",
       "    .dataframe tbody tr th {\n",
       "        vertical-align: top;\n",
       "    }\n",
       "\n",
       "    .dataframe thead th {\n",
       "        text-align: right;\n",
       "    }\n",
       "</style>\n",
       "<table border=\"1\" class=\"dataframe\">\n",
       "  <thead>\n",
       "    <tr style=\"text-align: right;\">\n",
       "      <th></th>\n",
       "      <th>CUSTOMER_LEVEL_BASED</th>\n",
       "      <th>PRICE</th>\n",
       "      <th>SEGMENT</th>\n",
       "    </tr>\n",
       "  </thead>\n",
       "  <tbody>\n",
       "    <tr>\n",
       "      <th>0</th>\n",
       "      <td>BRA_ANDROID_FEMALE_0_18</td>\n",
       "      <td>38.714286</td>\n",
       "      <td>A</td>\n",
       "    </tr>\n",
       "    <tr>\n",
       "      <th>1</th>\n",
       "      <td>BRA_ANDROID_FEMALE_0_18</td>\n",
       "      <td>35.944444</td>\n",
       "      <td>B</td>\n",
       "    </tr>\n",
       "    <tr>\n",
       "      <th>2</th>\n",
       "      <td>BRA_ANDROID_FEMALE_0_18</td>\n",
       "      <td>35.666667</td>\n",
       "      <td>B</td>\n",
       "    </tr>\n",
       "    <tr>\n",
       "      <th>3</th>\n",
       "      <td>BRA_ANDROID_FEMALE_0_18</td>\n",
       "      <td>32.255814</td>\n",
       "      <td>C</td>\n",
       "    </tr>\n",
       "    <tr>\n",
       "      <th>4</th>\n",
       "      <td>BRA_ANDROID_FEMALE_19_23</td>\n",
       "      <td>35.206897</td>\n",
       "      <td>B</td>\n",
       "    </tr>\n",
       "  </tbody>\n",
       "</table>\n",
       "</div>"
      ],
      "text/plain": [
       "       CUSTOMER_LEVEL_BASED      PRICE SEGMENT\n",
       "0   BRA_ANDROID_FEMALE_0_18  38.714286       A\n",
       "1   BRA_ANDROID_FEMALE_0_18  35.944444       B\n",
       "2   BRA_ANDROID_FEMALE_0_18  35.666667       B\n",
       "3   BRA_ANDROID_FEMALE_0_18  32.255814       C\n",
       "4  BRA_ANDROID_FEMALE_19_23  35.206897       B"
      ]
     },
     "execution_count": 51,
     "metadata": {},
     "output_type": "execute_result"
    }
   ],
   "source": [
    "agg_df.head()"
   ]
  },
  {
   "cell_type": "code",
   "execution_count": 52,
   "id": "21725fa1",
   "metadata": {
    "scrolled": true
   },
   "outputs": [
    {
     "data": {
      "text/plain": [
       "SEGMENT\n",
       "D    27.302596\n",
       "C    32.933339\n",
       "B    35.436170\n",
       "A    41.434736\n",
       "Name: PRICE, dtype: float64"
      ]
     },
     "execution_count": 52,
     "metadata": {},
     "output_type": "execute_result"
    }
   ],
   "source": [
    "agg_df.groupby('SEGMENT')['PRICE'].mean()"
   ]
  },
  {
   "cell_type": "markdown",
   "id": "0d3eda9c",
   "metadata": {},
   "source": [
    "## Classifying new customers and estimating how much revenue they can bring"
   ]
  },
  {
   "cell_type": "code",
   "execution_count": 51,
   "id": "5702764b",
   "metadata": {},
   "outputs": [],
   "source": [
    "new_user = 'TUR_ANDROID_FEMALE_31_40'"
   ]
  },
  {
   "cell_type": "code",
   "execution_count": 54,
   "id": "8df6a8a8",
   "metadata": {},
   "outputs": [
    {
     "data": {
      "text/html": [
       "<div>\n",
       "<style scoped>\n",
       "    .dataframe tbody tr th:only-of-type {\n",
       "        vertical-align: middle;\n",
       "    }\n",
       "\n",
       "    .dataframe tbody tr th {\n",
       "        vertical-align: top;\n",
       "    }\n",
       "\n",
       "    .dataframe thead th {\n",
       "        text-align: right;\n",
       "    }\n",
       "</style>\n",
       "<table border=\"1\" class=\"dataframe\">\n",
       "  <thead>\n",
       "    <tr style=\"text-align: right;\">\n",
       "      <th></th>\n",
       "      <th>CUSTOMER_LEVEL_BASED</th>\n",
       "      <th>PRICE</th>\n",
       "      <th>SEGMENT</th>\n",
       "    </tr>\n",
       "  </thead>\n",
       "  <tbody>\n",
       "    <tr>\n",
       "      <th>72</th>\n",
       "      <td>TUR_ANDROID_FEMALE_31_40</td>\n",
       "      <td>41.833333</td>\n",
       "      <td>A</td>\n",
       "    </tr>\n",
       "  </tbody>\n",
       "</table>\n",
       "</div>"
      ],
      "text/plain": [
       "        CUSTOMER_LEVEL_BASED      PRICE SEGMENT\n",
       "72  TUR_ANDROID_FEMALE_31_40  41.833333       A"
      ]
     },
     "execution_count": 54,
     "metadata": {},
     "output_type": "execute_result"
    }
   ],
   "source": [
    "agg_df[agg_df['CUSTOMER_LEVEL_BASED'] == new_user]"
   ]
  },
  {
   "cell_type": "code",
   "execution_count": 55,
   "id": "1c58b656",
   "metadata": {},
   "outputs": [],
   "source": [
    "new_user = 'FRA_IOS_FEMALE_31_40'"
   ]
  },
  {
   "cell_type": "code",
   "execution_count": 56,
   "id": "767c232c",
   "metadata": {},
   "outputs": [
    {
     "data": {
      "text/html": [
       "<div>\n",
       "<style scoped>\n",
       "    .dataframe tbody tr th:only-of-type {\n",
       "        vertical-align: middle;\n",
       "    }\n",
       "\n",
       "    .dataframe tbody tr th {\n",
       "        vertical-align: top;\n",
       "    }\n",
       "\n",
       "    .dataframe thead th {\n",
       "        text-align: right;\n",
       "    }\n",
       "</style>\n",
       "<table border=\"1\" class=\"dataframe\">\n",
       "  <thead>\n",
       "    <tr style=\"text-align: right;\">\n",
       "      <th></th>\n",
       "      <th>CUSTOMER_LEVEL_BASED</th>\n",
       "      <th>PRICE</th>\n",
       "      <th>SEGMENT</th>\n",
       "    </tr>\n",
       "  </thead>\n",
       "  <tbody>\n",
       "    <tr>\n",
       "      <th>63</th>\n",
       "      <td>FRA_IOS_FEMALE_31_40</td>\n",
       "      <td>32.818182</td>\n",
       "      <td>C</td>\n",
       "    </tr>\n",
       "  </tbody>\n",
       "</table>\n",
       "</div>"
      ],
      "text/plain": [
       "    CUSTOMER_LEVEL_BASED      PRICE SEGMENT\n",
       "63  FRA_IOS_FEMALE_31_40  32.818182       C"
      ]
     },
     "execution_count": 56,
     "metadata": {},
     "output_type": "execute_result"
    }
   ],
   "source": [
    "agg_df[agg_df['CUSTOMER_LEVEL_BASED'] == new_user]"
   ]
  },
  {
   "cell_type": "code",
   "execution_count": null,
   "id": "0b031523",
   "metadata": {},
   "outputs": [],
   "source": []
  }
 ],
 "metadata": {
  "kernelspec": {
   "display_name": "Python 3 (ipykernel)",
   "language": "python",
   "name": "python3"
  },
  "language_info": {
   "codemirror_mode": {
    "name": "ipython",
    "version": 3
   },
   "file_extension": ".py",
   "mimetype": "text/x-python",
   "name": "python",
   "nbconvert_exporter": "python",
   "pygments_lexer": "ipython3",
   "version": "3.9.7"
  }
 },
 "nbformat": 4,
 "nbformat_minor": 5
}
